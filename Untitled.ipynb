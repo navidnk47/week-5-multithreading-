{
 "cells": [
  {
   "cell_type": "code",
   "execution_count": null,
   "id": "025df8de-c768-4b7d-b175-3aaad4677232",
   "metadata": {},
   "outputs": [],
   "source": [
    "Q1). what is multithreading in python? hy is it used? Name the module used to handle threads in python"
   ]
  },
  {
   "cell_type": "code",
   "execution_count": null,
   "id": "2cfbced9-75c0-43ab-a709-3fff75caeaa2",
   "metadata": {},
   "outputs": [],
   "source": []
  },
  {
   "cell_type": "code",
   "execution_count": null,
   "id": "ff70d7b8-5fb3-4b6f-b506-2cabf428920b",
   "metadata": {},
   "outputs": [],
   "source": [
    "Multithreading in Python refers to the ability of a program to execute multiple threads concurrently within a single process.\n",
    "A thread is a lightweight sequence of instructions that can run independently and share the same memory space. Multithreading allows for \n",
    "concurrent execution of tasks, enabling efficient utilization of system resources and improving overall performance."
   ]
  },
  {
   "cell_type": "code",
   "execution_count": null,
   "id": "b35352d6-f821-4bea-ab21-f4800dc6ad12",
   "metadata": {},
   "outputs": [],
   "source": []
  },
  {
   "cell_type": "code",
   "execution_count": null,
   "id": "ed9f0d26-79a5-423e-bf10-b2d104973cc2",
   "metadata": {},
   "outputs": [],
   "source": [
    "Q2) why threading module used? rite the use of the following functions\n",
    " 1) activeCount\n",
    " 2)currentThread\n",
    " 3)enumerate\n"
   ]
  },
  {
   "cell_type": "code",
   "execution_count": null,
   "id": "33205c90-5d96-4563-82a8-ec034d261748",
   "metadata": {},
   "outputs": [],
   "source": [
    "The threading module in Python is used to handle threads and provides a high-level interface for creating and managing threads. \n",
    "It offers various functions and classes to facilitate thread creation, synchronization, and coordination.\n",
    "Let's explore the use of the functions you mentioned:\n",
    "\n",
    "1) activeCount() function:\n",
    "   The activeCount() function is used to retrieve the number of currently active threads in the program\n",
    "\n",
    "2)currentThread() function:\n",
    "The currentThread() function is used to obtain a reference to the current thread object. \n",
    "It returns an instance of the Thread class representing the currently executing thread. \n",
    "\n",
    "3)enumerate() function:\n",
    "The enumerate() function returns a list of all currently active Thread objects. \n",
    "Each Thread object represents an active thread in the program.\n"
   ]
  },
  {
   "cell_type": "code",
   "execution_count": null,
   "id": "174ccda6-eeae-410a-b2b7-e156e57fa72e",
   "metadata": {},
   "outputs": [],
   "source": []
  },
  {
   "cell_type": "code",
   "execution_count": null,
   "id": "a4f3655d-46e5-4fdb-8e86-fda6f6316f5d",
   "metadata": {},
   "outputs": [],
   "source": [
    "3. Explain the following functions?\n",
    "1)run()\n",
    " 2)start()\n",
    " 3)join()\n",
    "4)isAlive()"
   ]
  },
  {
   "cell_type": "code",
   "execution_count": null,
   "id": "e4c4eb9c-53f8-4193-9cf0-f5f538399e14",
   "metadata": {},
   "outputs": [],
   "source": [
    "run(): The run() function is a method that defines the behavior of a thread when it is executed. \n",
    "It is typically overridden in a subclass of the Thread class (in languages like Java or Python) to specify the code that will run\n",
    "in the thread. When the start() method is called on a thread object, it internally calls the run() method to start the execution of the \n",
    "thread.\n",
    "\n",
    "start(): The start() function is used to start the execution of a thread. When called on a thread object, it creates a new thread of \n",
    "execution and calls the run() method of the thread. The actual execution of the thread happens asynchronously, meaning that the program \n",
    "will continue running while the thread runs in the background. Once the start() method is called, it is not recommended to call the run()\n",
    "method directly.\n",
    "\n",
    "join(): The join() function is used to wait for a thread to finish its execution before proceeding further in the program. When join() \n",
    "is called on a thread object, the calling thread (usually the main thread) will pause its execution and wait for the specified thread to\n",
    "complete. This is useful when you want to ensure that certain operations are completed before moving on to the next steps in the program. \n",
    "The join() function can also take an optional timeout parameter, which specifies the maximum time to wait for the thread to finish.\n",
    "\n",
    "isAlive(): The isAlive() function is used to check whether a thread is currently running or not. When called on a thread object, it \n",
    "returns True if the thread is still executing, and False otherwise. This function can be used to determine if a thread has finished its\n",
    "execution or if it is still running. It is commonly used in scenarios where you need to synchronize the execution of multiple threads or \n",
    "perform some actions based on the status of a thread."
   ]
  },
  {
   "cell_type": "code",
   "execution_count": null,
   "id": "8a2324dc-b4f9-44ff-88d2-3903db027cc6",
   "metadata": {},
   "outputs": [],
   "source": []
  },
  {
   "cell_type": "code",
   "execution_count": null,
   "id": "9e6bc00a-4d3e-46d3-85d6-41dafdd0ecf0",
   "metadata": {},
   "outputs": [],
   "source": [
    "Q4)4. rite a python program to create two threads. Thread one must print the list of squares and thread\n",
    "two must print the list of cubes"
   ]
  },
  {
   "cell_type": "code",
   "execution_count": 1,
   "id": "e8848d77-d953-4824-b5b8-cfe9364b8874",
   "metadata": {},
   "outputs": [
    {
     "name": "stdout",
     "output_type": "stream",
     "text": [
      "List of squares: [1, 4, 9, 16, 25, 36, 49, 64, 81, 100]\n",
      "List of cubes: [1, 8, 27, 64, 125, 216, 343, 512, 729, 1000]\n",
      "Program execution completed.\n"
     ]
    }
   ],
   "source": [
    "import threading\n",
    "\n",
    "def print_squares():\n",
    "    squares = [num ** 2 for num in range(1, 11)]\n",
    "    print(\"List of squares:\", squares)\n",
    "\n",
    "def print_cubes():\n",
    "    cubes = [num ** 3 for num in range(1, 11)]\n",
    "    print(\"List of cubes:\", cubes)\n",
    "\n",
    "if __name__ == \"__main__\":\n",
    "    thread1 = threading.Thread(target=print_squares)\n",
    "    thread2 = threading.Thread(target=print_cubes)\n",
    "\n",
    "    thread1.start()\n",
    "    thread2.start()\n",
    "\n",
    "    thread1.join()\n",
    "    thread2.join()\n",
    "\n",
    "    print(\"Program execution completed.\")\n"
   ]
  },
  {
   "cell_type": "code",
   "execution_count": null,
   "id": "5f0ae1fc-faf7-4ce3-b01d-7e16d014e996",
   "metadata": {},
   "outputs": [],
   "source": []
  },
  {
   "cell_type": "code",
   "execution_count": null,
   "id": "f7d38069-cd8b-451f-a65d-5ae42f6058d9",
   "metadata": {},
   "outputs": [],
   "source": [
    "Q5)5. State advantages and disadvantages of multithreading"
   ]
  },
  {
   "cell_type": "code",
   "execution_count": null,
   "id": "3ad0346b-60e9-49ef-8af7-9814743fc5c4",
   "metadata": {},
   "outputs": [],
   "source": [
    "Advantages of Multithreading:\n",
    "\n",
    "Increased Responsiveness: Multithreading allows an application to remain responsive even when performing time-consuming tasks. \n",
    "By executing multiple threads concurrently, the application can continue to process user input and respond to other events.\n",
    "\n",
    "Improved Performance: Multithreading can enhance the overall performance of an application. By dividing a task into smaller subtasks \n",
    "and assigning them to different threads, it can take advantage of the available CPU resources and reduce the overall execution time."
   ]
  },
  {
   "cell_type": "code",
   "execution_count": null,
   "id": "c92cebb2-a2ff-44e9-a896-1c4baff0c163",
   "metadata": {},
   "outputs": [],
   "source": [
    "Disadvantages of Multithreading:\n",
    "\n",
    "Complexity: Multithreaded applications can be more complex to design, implement, and debug compared to single-threaded applications.\n",
    "Issues like race conditions, deadlocks, and synchronization problems can arise, requiring careful handling and extensive testing.\n",
    "\n",
    "Increased Memory Usage: Each thread within a process requires its own stack and thread-specific data structures, which can consume\n",
    "additional memory resources. As a result, multithreading may lead to increased memory usage compared to a single-threaded application."
   ]
  },
  {
   "cell_type": "code",
   "execution_count": null,
   "id": "3ba43bce-db5c-4d87-adca-fe286e24756d",
   "metadata": {},
   "outputs": [],
   "source": []
  },
  {
   "cell_type": "code",
   "execution_count": null,
   "id": "7790cdd6-b170-4439-9d8d-d95d4ca785c2",
   "metadata": {},
   "outputs": [],
   "source": [
    "Q6)6. Explain deadlocks and race conditions."
   ]
  },
  {
   "cell_type": "code",
   "execution_count": null,
   "id": "95569985-7bb1-485b-9618-6b90dfe135e2",
   "metadata": {},
   "outputs": [],
   "source": [
    "ther3= [threading.thread(target=test2 , arg = (id,) ) for i in range(3)]"
   ]
  },
  {
   "cell_type": "code",
   "execution_count": 22,
   "id": "eb691c16-3e9e-4057-8998-54f7bdaace93",
   "metadata": {},
   "outputs": [
    {
     "name": "stdout",
     "output_type": "stream",
     "text": [
      "test2 is 0 has increased the shared variable by 1 \n",
      "test2 is 1 has increased the shared variable by 2 \n",
      "test2 is 2 has increased the shared variable by 3 \n"
     ]
    },
    {
     "name": "stderr",
     "output_type": "stream",
     "text": [
      "Exception in thread Thread-28 (test2):\n",
      "Traceback (most recent call last):\n",
      "  File \"/opt/conda/lib/python3.10/threading.py\", line 1016, in _bootstrap_inner\n",
      "Exception in thread Thread-29 (test2):\n",
      "Traceback (most recent call last):\n",
      "  File \"/opt/conda/lib/python3.10/threading.py\", line 1016, in _bootstrap_inner\n",
      "    self.run()\n",
      "  File \"/opt/conda/lib/python3.10/threading.py\", line 953, in run\n",
      "Exception in thread Thread-30 (test2):\n",
      "Traceback (most recent call last):\n",
      "  File \"/opt/conda/lib/python3.10/threading.py\", line 1016, in _bootstrap_inner\n",
      "    self.run()\n",
      "  File \"/opt/conda/lib/python3.10/threading.py\", line 953, in run\n",
      "    self._target(*self._args, **self._kwargs)\n",
      "  File \"/tmp/ipykernel_294/2601205572.py\", line 8, in test2\n",
      "NameError: name 'time' is not defined\n",
      "    self._target(*self._args, **self._kwargs)\n",
      "  File \"/tmp/ipykernel_294/2601205572.py\", line 8, in test2\n",
      "    self.run()\n",
      "  File \"/opt/conda/lib/python3.10/threading.py\", line 953, in run\n",
      "    self._target(*self._args, **self._kwargs)\n",
      "  File \"/tmp/ipykernel_294/2601205572.py\", line 8, in test2\n",
      "NameError: name 'time' is not defined\n",
      "NameError: name 'time' is not defined\n"
     ]
    }
   ],
   "source": [
    "shared_var = 0\n",
    "lock_var = threading.Lock()\n",
    "def test2(id) : \n",
    "    global shared_var\n",
    "    with lock_var:\n",
    "        shared_var = shared_var+1\n",
    "        print(\"test2 is %d has increased the shared variable by %d \" % (id ,shared_var) )\n",
    "        time.sleep(1)\n",
    "ther3 = [threading.Thread(target=test2 , args = (i,) ) for i in range(3)]    \n",
    "for t in ther3:\n",
    "    t.start()"
   ]
  },
  {
   "cell_type": "code",
   "execution_count": null,
   "id": "3bfb11b8-3ebb-4de2-ba65-943efc4bed6a",
   "metadata": {},
   "outputs": [],
   "source": []
  }
 ],
 "metadata": {
  "kernelspec": {
   "display_name": "Python 3 (ipykernel)",
   "language": "python",
   "name": "python3"
  },
  "language_info": {
   "codemirror_mode": {
    "name": "ipython",
    "version": 3
   },
   "file_extension": ".py",
   "mimetype": "text/x-python",
   "name": "python",
   "nbconvert_exporter": "python",
   "pygments_lexer": "ipython3",
   "version": "3.10.8"
  }
 },
 "nbformat": 4,
 "nbformat_minor": 5
}
